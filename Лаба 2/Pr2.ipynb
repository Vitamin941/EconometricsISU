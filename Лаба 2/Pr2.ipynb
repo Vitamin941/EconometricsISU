{
 "cells": [
  {
   "cell_type": "markdown",
   "id": "56ba7a77",
   "metadata": {},
   "source": [
    "### Импорты библиотек"
   ]
  },
  {
   "cell_type": "code",
   "execution_count": 2,
   "id": "d91693b6",
   "metadata": {},
   "outputs": [],
   "source": [
    "import pandas as pd\n",
    "import numpy as np\n",
    "import math\n",
    "import matplotlib.pyplot as plt\n",
    "from matplotlib.patches import Wedge"
   ]
  },
  {
   "cell_type": "markdown",
   "id": "ed571a33",
   "metadata": {},
   "source": [
    "### Задача\n",
    "Изучается с.в. X - сумма очков, при вытягивание 3-х игральных карт, где цифры соответствуют своим значениям, В = 2, Д = 3, К = 4, Т = 11.\n",
    "\n",
    "Проводится 100 независимых опытов\n",
    "\n"
   ]
  },
  {
   "cell_type": "markdown",
   "id": "e00ca891-21af-4524-a5c4-e6db38ae95d1",
   "metadata": {},
   "source": [
    "# * Теоретический результат"
   ]
  },
  {
   "cell_type": "code",
   "execution_count": 3,
   "id": "bced3fa7-b3a3-4546-b22b-ff473e7bcb04",
   "metadata": {},
   "outputs": [
    {
     "data": {
      "text/html": [
       "<div>\n",
       "<style scoped>\n",
       "    .dataframe tbody tr th:only-of-type {\n",
       "        vertical-align: middle;\n",
       "    }\n",
       "\n",
       "    .dataframe tbody tr th {\n",
       "        vertical-align: top;\n",
       "    }\n",
       "\n",
       "    .dataframe thead th {\n",
       "        text-align: right;\n",
       "    }\n",
       "</style>\n",
       "<table border=\"1\" class=\"dataframe\">\n",
       "  <thead>\n",
       "    <tr style=\"text-align: right;\">\n",
       "      <th></th>\n",
       "      <th>0</th>\n",
       "      <th>1</th>\n",
       "      <th>2</th>\n",
       "      <th>3</th>\n",
       "      <th>4</th>\n",
       "      <th>5</th>\n",
       "      <th>6</th>\n",
       "      <th>7</th>\n",
       "      <th>8</th>\n",
       "      <th>9</th>\n",
       "      <th>...</th>\n",
       "      <th>18</th>\n",
       "      <th>19</th>\n",
       "      <th>20</th>\n",
       "      <th>21</th>\n",
       "      <th>22</th>\n",
       "      <th>23</th>\n",
       "      <th>24</th>\n",
       "      <th>25</th>\n",
       "      <th>26</th>\n",
       "      <th>27</th>\n",
       "    </tr>\n",
       "  </thead>\n",
       "  <tbody>\n",
       "    <tr>\n",
       "      <th>X</th>\n",
       "      <td>6</td>\n",
       "      <td>7</td>\n",
       "      <td>8</td>\n",
       "      <td>9</td>\n",
       "      <td>10</td>\n",
       "      <td>11</td>\n",
       "      <td>12</td>\n",
       "      <td>13</td>\n",
       "      <td>14</td>\n",
       "      <td>15</td>\n",
       "      <td>...</td>\n",
       "      <td>24</td>\n",
       "      <td>25</td>\n",
       "      <td>26</td>\n",
       "      <td>27</td>\n",
       "      <td>28</td>\n",
       "      <td>29</td>\n",
       "      <td>30</td>\n",
       "      <td>31</td>\n",
       "      <td>32</td>\n",
       "      <td>33</td>\n",
       "    </tr>\n",
       "    <tr>\n",
       "      <th>n</th>\n",
       "      <td>1/1785</td>\n",
       "      <td>2/595</td>\n",
       "      <td>4/595</td>\n",
       "      <td>1/105</td>\n",
       "      <td>6/595</td>\n",
       "      <td>4/255</td>\n",
       "      <td>3/119</td>\n",
       "      <td>4/119</td>\n",
       "      <td>24/595</td>\n",
       "      <td>88/1785</td>\n",
       "      <td>...</td>\n",
       "      <td>1/17</td>\n",
       "      <td>88/1785</td>\n",
       "      <td>24/595</td>\n",
       "      <td>61/1785</td>\n",
       "      <td>10/357</td>\n",
       "      <td>2/105</td>\n",
       "      <td>23/1785</td>\n",
       "      <td>4/595</td>\n",
       "      <td>2/595</td>\n",
       "      <td>1/1785</td>\n",
       "    </tr>\n",
       "  </tbody>\n",
       "</table>\n",
       "<p>2 rows × 28 columns</p>\n",
       "</div>"
      ],
      "text/plain": [
       "       0      1      2      3      4      5      6      7       8        9   \\\n",
       "X       6      7      8      9     10     11     12     13      14       15   \n",
       "n  1/1785  2/595  4/595  1/105  6/595  4/255  3/119  4/119  24/595  88/1785   \n",
       "\n",
       "   ...    18       19      20       21      22     23       24     25     26  \\\n",
       "X  ...    24       25      26       27      28     29       30     31     32   \n",
       "n  ...  1/17  88/1785  24/595  61/1785  10/357  2/105  23/1785  4/595  2/595   \n",
       "\n",
       "       27  \n",
       "X      33  \n",
       "n  1/1785  \n",
       "\n",
       "[2 rows x 28 columns]"
      ]
     },
     "execution_count": 3,
     "metadata": {},
     "output_type": "execute_result"
    }
   ],
   "source": [
    "from fractions import Fraction as f\n",
    "CARDS = [2, 3, 4, 6, 7, 8, 9, 10, 11]\n",
    "def print_how_sum(num):\n",
    "    ver = 0\n",
    "    # Перебераем варианты для 3х карт\n",
    "    for j1 in CARDS:\n",
    "        for j2 in CARDS:\n",
    "            for j3 in CARDS:\n",
    "                # Считаем кол-во очков (порядок учитывается)\n",
    "                sum = j1+j2+j3\n",
    "                if sum == num:\n",
    "                    # Смотрим сколько повторяющихся \n",
    "                    lj = len(set([j1, j2, j3]))\n",
    "                    el_is = 36*35*34\n",
    "                    if lj == 3: # без повтора\n",
    "                        # Все 3 карты  разных мастей \n",
    "                        # 64 варианта расположить карты с достоинством j1, j2, j3\n",
    "                        ver += f(4*4*4,el_is) \n",
    "                    elif lj == 2: # одно повторение\n",
    "                        # Не может быть карты с одинаковым достоинством и мастью\n",
    "                        # поэтому у двух карт произвольные масти\n",
    "                        # у одной будет 1 недопустимый вариант\n",
    "                        ver += f(4*4*3,el_is) \n",
    "                    elif lj == 1: # все одинаковые\n",
    "                        # первая карта произвольной масти\n",
    "                        # вторая любой кроме масти первого варианта\n",
    "                        # третья любой кроме первой и второй \n",
    "                        ver += f(4*3*2,el_is)\n",
    "    return ver\n",
    "sum_ = 0\n",
    "for i in range(6, 34):\n",
    "    sum_ +=  print_how_sum(i)\n",
    "    \n",
    "df2 = pd.concat([pd.DataFrame([[i, print_how_sum(i)]], \n",
    "                              columns=['X','n']) for i in range(6, 34)],\n",
    "          ignore_index=True)  \n",
    "# Проверка:\n",
    "sum_ == 1\n",
    "\n",
    "plt2_x = df2['X']; plt2_y = df2['n']\n",
    "df2.T"
   ]
  },
  {
   "cell_type": "markdown",
   "id": "a79ba8ba",
   "metadata": {
    "tags": []
   },
   "source": [
    "### *ЧИСЛОВЫЕ ХАРАКТЕРИСТИКИ С.В. Х"
   ]
  },
  {
   "cell_type": "code",
   "execution_count": 4,
   "id": "e8ddf889",
   "metadata": {
    "tags": []
   },
   "outputs": [
    {
     "name": "stdout",
     "output_type": "stream",
     "text": [
      "\n",
      "МХ = 20.0\n",
      "DX = 25.1429\n",
      "с.к.о = 5.0143\n",
      "мода = 21\n",
      "медиана = 20\n",
      "\n"
     ]
    }
   ],
   "source": [
    "# Мат.ожидание\n",
    "MX = 0 \n",
    "for index, row in df2.iterrows():\n",
    "    MX += row['X'] * row['n']\n",
    "\n",
    "# Дисперсия\n",
    "MX_1 = 0\n",
    "for index, row in df2.iterrows():\n",
    "    MX_1 += row['X'] ** 2 * row['n']\n",
    "DX = MX_1 - MX**2\n",
    "\n",
    "# Мода\n",
    "ver_mx = df2['n'].max()\n",
    "moda_row = df2[df2['n'] == ver_mx]['X']\n",
    "ind = moda_row.index[0]\n",
    "moda_tv = moda_row[ind]\n",
    "\n",
    "# Медиана\n",
    "df2['omega'] = 0\n",
    "for i in df2.index:\n",
    "    df2.loc[i, 'omega'] = df2['n'].loc[:i].sum()\n",
    "mediana_tv = df2[df2['omega'] > 0.5].min()['X']\n",
    "\n",
    "print(f\"\"\"\n",
    "МХ = {round(float(MX),4)}\n",
    "DX = {round(float(DX),4)}\n",
    "с.к.о = {round(float(DX)**0.5,4)}\n",
    "мода = {moda_tv}\n",
    "медиана = {mediana_tv}\n",
    "\"\"\")\n",
    "# float(MX), float(DX), moda_tv, mediana_tv"
   ]
  },
  {
   "cell_type": "markdown",
   "id": "dc3b1fb4-f467-4fe9-acf1-622efb6ba324",
   "metadata": {},
   "source": [
    "# 1.Результат эксперимента\n",
    "Массив \"а\" является выборкой  "
   ]
  },
  {
   "cell_type": "code",
   "execution_count": 5,
   "id": "131da9b2",
   "metadata": {},
   "outputs": [],
   "source": [
    "a = [27,9,26,18,\n",
    "23,8,19,16,\n",
    "21,24,23,18,\n",
    "19,24,16,21,\n",
    "23,17,24,19,\n",
    "25,20,12,17,\n",
    "27,24,8,16,\n",
    "23,18,15,12,\n",
    "16,24,14,23,\n",
    "20,15,19,17,\n",
    "25,24,18,23,\n",
    "25,11,25,23,\n",
    "19,24,22,21,\n",
    "15,17,25,24,\n",
    "15,25,25,19,\n",
    "29,21,19,13,\n",
    "28,13,16,18,\n",
    "12,28,18,18,\n",
    "24,14,18,18,\n",
    "21,14,18,16,\n",
    "17,22,24,22,\n",
    "16,23,19,21,\n",
    "15,14,16,22,\n",
    "25,19,16,11,\n",
    "21,23,19,26]\n",
    "N = len(a)"
   ]
  },
  {
   "cell_type": "markdown",
   "id": "cb0f5e44-8b83-47e5-981c-6fd6f97b52d6",
   "metadata": {},
   "source": [
    "# 2. Вариационный и статический ряды\n",
    "### Вариационный ряд"
   ]
  },
  {
   "cell_type": "code",
   "execution_count": 6,
   "id": "451a007e-1f7e-48cf-95da-8969d321c032",
   "metadata": {},
   "outputs": [
    {
     "name": "stdout",
     "output_type": "stream",
     "text": [
      "8 8 9 11 11 12 12 12 13 13 \n",
      "14 14 14 14 15 15 15 15 15 16 \n",
      "16 16 16 16 16 16 16 16 17 17 \n",
      "17 17 17 18 18 18 18 18 18 18 \n",
      "18 18 18 19 19 19 19 19 19 19 \n",
      "19 19 19 20 20 21 21 21 21 21 \n",
      "21 21 22 22 22 22 23 23 23 23 \n",
      "23 23 23 23 23 24 24 24 24 24 \n",
      "24 24 24 24 24 25 25 25 25 25 \n",
      "25 25 25 26 26 27 27 28 28 29 \n"
     ]
    }
   ],
   "source": [
    "a.sort()\n",
    "for j in range(10):\n",
    "    for i in range(int(N/10)):\n",
    "        print(a[i+j*10], end=' ')\n",
    "    print()"
   ]
  },
  {
   "cell_type": "markdown",
   "id": "a319c64e",
   "metadata": {},
   "source": [
    "### Статистический ряд"
   ]
  },
  {
   "cell_type": "code",
   "execution_count": 7,
   "id": "13aeb22f",
   "metadata": {},
   "outputs": [
    {
     "data": {
      "text/html": [
       "<div>\n",
       "<style scoped>\n",
       "    .dataframe tbody tr th:only-of-type {\n",
       "        vertical-align: middle;\n",
       "    }\n",
       "\n",
       "    .dataframe tbody tr th {\n",
       "        vertical-align: top;\n",
       "    }\n",
       "\n",
       "    .dataframe thead th {\n",
       "        text-align: right;\n",
       "    }\n",
       "</style>\n",
       "<table border=\"1\" class=\"dataframe\">\n",
       "  <thead>\n",
       "    <tr style=\"text-align: right;\">\n",
       "      <th></th>\n",
       "      <th>X</th>\n",
       "      <th>n</th>\n",
       "    </tr>\n",
       "  </thead>\n",
       "  <tbody>\n",
       "    <tr>\n",
       "      <th>0</th>\n",
       "      <td>8</td>\n",
       "      <td>2</td>\n",
       "    </tr>\n",
       "    <tr>\n",
       "      <th>1</th>\n",
       "      <td>9</td>\n",
       "      <td>1</td>\n",
       "    </tr>\n",
       "    <tr>\n",
       "      <th>2</th>\n",
       "      <td>11</td>\n",
       "      <td>2</td>\n",
       "    </tr>\n",
       "    <tr>\n",
       "      <th>3</th>\n",
       "      <td>12</td>\n",
       "      <td>3</td>\n",
       "    </tr>\n",
       "    <tr>\n",
       "      <th>4</th>\n",
       "      <td>13</td>\n",
       "      <td>2</td>\n",
       "    </tr>\n",
       "    <tr>\n",
       "      <th>5</th>\n",
       "      <td>14</td>\n",
       "      <td>4</td>\n",
       "    </tr>\n",
       "    <tr>\n",
       "      <th>6</th>\n",
       "      <td>15</td>\n",
       "      <td>5</td>\n",
       "    </tr>\n",
       "    <tr>\n",
       "      <th>7</th>\n",
       "      <td>16</td>\n",
       "      <td>9</td>\n",
       "    </tr>\n",
       "    <tr>\n",
       "      <th>8</th>\n",
       "      <td>17</td>\n",
       "      <td>5</td>\n",
       "    </tr>\n",
       "    <tr>\n",
       "      <th>9</th>\n",
       "      <td>18</td>\n",
       "      <td>10</td>\n",
       "    </tr>\n",
       "    <tr>\n",
       "      <th>10</th>\n",
       "      <td>19</td>\n",
       "      <td>10</td>\n",
       "    </tr>\n",
       "    <tr>\n",
       "      <th>11</th>\n",
       "      <td>20</td>\n",
       "      <td>2</td>\n",
       "    </tr>\n",
       "    <tr>\n",
       "      <th>12</th>\n",
       "      <td>21</td>\n",
       "      <td>7</td>\n",
       "    </tr>\n",
       "    <tr>\n",
       "      <th>13</th>\n",
       "      <td>22</td>\n",
       "      <td>4</td>\n",
       "    </tr>\n",
       "    <tr>\n",
       "      <th>14</th>\n",
       "      <td>23</td>\n",
       "      <td>9</td>\n",
       "    </tr>\n",
       "    <tr>\n",
       "      <th>15</th>\n",
       "      <td>24</td>\n",
       "      <td>10</td>\n",
       "    </tr>\n",
       "    <tr>\n",
       "      <th>16</th>\n",
       "      <td>25</td>\n",
       "      <td>8</td>\n",
       "    </tr>\n",
       "    <tr>\n",
       "      <th>17</th>\n",
       "      <td>26</td>\n",
       "      <td>2</td>\n",
       "    </tr>\n",
       "    <tr>\n",
       "      <th>18</th>\n",
       "      <td>27</td>\n",
       "      <td>2</td>\n",
       "    </tr>\n",
       "    <tr>\n",
       "      <th>19</th>\n",
       "      <td>28</td>\n",
       "      <td>2</td>\n",
       "    </tr>\n",
       "    <tr>\n",
       "      <th>20</th>\n",
       "      <td>29</td>\n",
       "      <td>1</td>\n",
       "    </tr>\n",
       "  </tbody>\n",
       "</table>\n",
       "</div>"
      ],
      "text/plain": [
       "     X   n\n",
       "0    8   2\n",
       "1    9   1\n",
       "2   11   2\n",
       "3   12   3\n",
       "4   13   2\n",
       "5   14   4\n",
       "6   15   5\n",
       "7   16   9\n",
       "8   17   5\n",
       "9   18  10\n",
       "10  19  10\n",
       "11  20   2\n",
       "12  21   7\n",
       "13  22   4\n",
       "14  23   9\n",
       "15  24  10\n",
       "16  25   8\n",
       "17  26   2\n",
       "18  27   2\n",
       "19  28   2\n",
       "20  29   1"
      ]
     },
     "execution_count": 7,
     "metadata": {},
     "output_type": "execute_result"
    }
   ],
   "source": [
    "unic_vals = list(set(a))\n",
    "count_unic_vals = [a.count(val) for val in unic_vals]\n",
    "unic_vals.sort()\n",
    "df = pd.DataFrame(np.array([unic_vals,count_unic_vals]).T, columns=['X','n'])\n",
    "df"
   ]
  },
  {
   "cell_type": "code",
   "execution_count": 8,
   "id": "e1cc1c77",
   "metadata": {},
   "outputs": [
    {
     "name": "stdout",
     "output_type": "stream",
     "text": [
      "Вариационный размах: 21\n",
      "Рекомендуемое число интервалов: 7\n",
      "Кол-во интервалов: 6\n",
      "Длина интервалов: 4\n",
      "Достаточно ли точек: False\n"
     ]
    }
   ],
   "source": [
    "# Вариационный размах\n",
    "var_step = df['X'].max() - df['X'].min()\n",
    "print(f'Вариационный размах: {var_step}')\n",
    "# Правило Стерджеса\n",
    "inter_count = int(1 + 3.322 * math.log10(N))\n",
    "print(f'Рекомендуемое число интервалов: {inter_count}')\n",
    "\n",
    "# Выбранное количество и длина интервалов\n",
    "inter_count = 6\n",
    "inter_length = 4\n",
    "print(f'Кол-во интервалов: {inter_count}')\n",
    "print(f'Длина интервалов: {inter_length}')\n",
    "print(f'Достаточно ли точек: {inter_count*inter_length == len(df)}')"
   ]
  },
  {
   "cell_type": "code",
   "execution_count": 9,
   "id": "d16b6d9d",
   "metadata": {},
   "outputs": [
    {
     "name": "stdout",
     "output_type": "stream",
     "text": [
      "Достаточно ли точек: True\n"
     ]
    }
   ],
   "source": [
    "df_2 = pd.DataFrame([[10, 0], [30, 0], [31, 0]],columns=['X', 'n'])\n",
    "df = pd.concat([df, df_2])\n",
    "df = df.sort_values('X').reset_index(drop=True)\n",
    "print(f'Достаточно ли точек: {inter_count*inter_length == len(df)}')"
   ]
  },
  {
   "cell_type": "markdown",
   "id": "755feed8",
   "metadata": {},
   "source": [
    "### Проверка"
   ]
  },
  {
   "cell_type": "code",
   "execution_count": 10,
   "id": "ebb0ce16-f441-4626-ad0f-0c66c8002353",
   "metadata": {},
   "outputs": [
    {
     "data": {
      "text/plain": [
       "True"
      ]
     },
     "execution_count": 10,
     "metadata": {},
     "output_type": "execute_result"
    }
   ],
   "source": [
    "# Проверка\n",
    "df['n'].sum() == N"
   ]
  },
  {
   "cell_type": "markdown",
   "id": "5e3bab44",
   "metadata": {},
   "source": [
    "### Интервальный статистический ряд"
   ]
  },
  {
   "cell_type": "code",
   "execution_count": 11,
   "id": "61205180",
   "metadata": {},
   "outputs": [],
   "source": [
    "x0 = df['X'][0]\n",
    "cols = [] # интервалы\n",
    "data_n = [] # сумма n в этих интервалах\n",
    "for count in range(inter_count):\n",
    "    ind_left = count*inter_length\n",
    "    ind_right = (count+1)*inter_length-1\n",
    "    data_n.append(df['n'].loc[ind_left:ind_right].sum())\n",
    "    if count != (inter_count-1):\n",
    "        cols.append(f\"[{x0+ind_left}-{x0+ind_right+1})\")\n",
    "    else:\n",
    "        cols.append(f\"[{x0+ind_left}-{x0+ind_right+1}]\")\n"
   ]
  },
  {
   "cell_type": "code",
   "execution_count": 12,
   "id": "adf5facd",
   "metadata": {},
   "outputs": [
    {
     "data": {
      "text/html": [
       "<div>\n",
       "<style scoped>\n",
       "    .dataframe tbody tr th:only-of-type {\n",
       "        vertical-align: middle;\n",
       "    }\n",
       "\n",
       "    .dataframe tbody tr th {\n",
       "        vertical-align: top;\n",
       "    }\n",
       "\n",
       "    .dataframe thead th {\n",
       "        text-align: right;\n",
       "    }\n",
       "</style>\n",
       "<table border=\"1\" class=\"dataframe\">\n",
       "  <thead>\n",
       "    <tr style=\"text-align: right;\">\n",
       "      <th></th>\n",
       "      <th>Ci-Ci+1</th>\n",
       "      <th>ni*</th>\n",
       "    </tr>\n",
       "  </thead>\n",
       "  <tbody>\n",
       "    <tr>\n",
       "      <th>0</th>\n",
       "      <td>[8-12)</td>\n",
       "      <td>5</td>\n",
       "    </tr>\n",
       "    <tr>\n",
       "      <th>1</th>\n",
       "      <td>[12-16)</td>\n",
       "      <td>14</td>\n",
       "    </tr>\n",
       "    <tr>\n",
       "      <th>2</th>\n",
       "      <td>[16-20)</td>\n",
       "      <td>34</td>\n",
       "    </tr>\n",
       "    <tr>\n",
       "      <th>3</th>\n",
       "      <td>[20-24)</td>\n",
       "      <td>22</td>\n",
       "    </tr>\n",
       "    <tr>\n",
       "      <th>4</th>\n",
       "      <td>[24-28)</td>\n",
       "      <td>22</td>\n",
       "    </tr>\n",
       "    <tr>\n",
       "      <th>5</th>\n",
       "      <td>[28-32]</td>\n",
       "      <td>3</td>\n",
       "    </tr>\n",
       "  </tbody>\n",
       "</table>\n",
       "</div>"
      ],
      "text/plain": [
       "   Ci-Ci+1 ni*\n",
       "0   [8-12)   5\n",
       "1  [12-16)  14\n",
       "2  [16-20)  34\n",
       "3  [20-24)  22\n",
       "4  [24-28)  22\n",
       "5  [28-32]   3"
      ]
     },
     "execution_count": 12,
     "metadata": {},
     "output_type": "execute_result"
    }
   ],
   "source": [
    "# df для интервального статистического ряда\n",
    "df_stat = pd.DataFrame(np.array([data_n]).T,columns=['ni*'])\n",
    "n_series = pd.Series(data_n)\n",
    "interv_series = pd.Series(cols)\n",
    "df_test = pd.DataFrame(np.array([interv_series, n_series]).T, \n",
    "                       columns=['Ci-Ci+1','ni*'])\n",
    "df_test"
   ]
  },
  {
   "cell_type": "markdown",
   "id": "8c713930",
   "metadata": {},
   "source": [
    "### Проверка на кол-во значений"
   ]
  },
  {
   "cell_type": "code",
   "execution_count": 13,
   "id": "315c98da",
   "metadata": {},
   "outputs": [
    {
     "data": {
      "text/plain": [
       "True"
      ]
     },
     "execution_count": 13,
     "metadata": {},
     "output_type": "execute_result"
    }
   ],
   "source": [
    "df_stat['ni*'].sum() == N"
   ]
  },
  {
   "cell_type": "markdown",
   "id": "e4b4330c",
   "metadata": {},
   "source": [
    "# 3.Таблица частот\n",
    "### Образуем финальную для третьего шага табличку\n",
    "- номер\n",
    "- границы интервалов\n",
    "- середина каждого интервала\n",
    "- частота\n",
    "- накопительная частота\n",
    "- относительная частота\n",
    "- накопительная относительная частота"
   ]
  },
  {
   "cell_type": "markdown",
   "id": "3bd017a0-c843-472d-9dc9-b86ee0b7344a",
   "metadata": {},
   "source": [
    "### Середина каждого отрезка"
   ]
  },
  {
   "cell_type": "code",
   "execution_count": 14,
   "id": "1f0848fa",
   "metadata": {},
   "outputs": [
    {
     "data": {
      "image/png": "[encoded data removed]",
      "text/latex": [
       "$\\displaystyle \\left[ 10.0, \\  14.0, \\  18.0, \\  22.0, \\  26.0, \\  30.0\\right]$"
      ],
      "text/plain": [
       "[10.0, 14.0, 18.0, 22.0, 26.0, 30.0]"
      ]
     },
     "execution_count": 14,
     "metadata": {},
     "output_type": "execute_result"
    }
   ],
   "source": [
    "ni_column = df_stat['ni*']\n",
    "x0 = df['X'].min()\n",
    "\n",
    "# Середина каждого отрезка\n",
    "mid_of_inters = [x0+inter_length*(i+0.5) for i in range(inter_count)] \n",
    "mid_of_inters\n"
   ]
  },
  {
   "cell_type": "markdown",
   "id": "b6821265",
   "metadata": {},
   "source": [
    "### Считаем накопительную частоту"
   ]
  },
  {
   "cell_type": "code",
   "execution_count": 15,
   "id": "969ad6b4",
   "metadata": {},
   "outputs": [
    {
     "data": {
      "text/plain": [
       "[5, 19, 53, 75, 97, 100]"
      ]
     },
     "execution_count": 15,
     "metadata": {},
     "output_type": "execute_result"
    }
   ],
   "source": [
    "saving_sum = []\n",
    "for col in range(inter_count):\n",
    "    sum_ = ni_column.loc[:col].sum()\n",
    "    saving_sum.append(sum_)\n",
    "saving_sum\n",
    "\n"
   ]
  },
  {
   "cell_type": "markdown",
   "id": "2edff141",
   "metadata": {},
   "source": [
    "### Считаем относительную частоту"
   ]
  },
  {
   "cell_type": "code",
   "execution_count": 16,
   "id": "4f46664f",
   "metadata": {},
   "outputs": [
    {
     "data": {
      "image/png": "[encoded data removed]",
      "text/latex": [
       "$\\displaystyle \\left[ 0.05, \\  0.14, \\  0.34, \\  0.22, \\  0.22, \\  0.03\\right]$"
      ],
      "text/plain": [
       "[0.05, 0.14, 0.34, 0.22, 0.22, 0.03]"
      ]
     },
     "execution_count": 16,
     "metadata": {},
     "output_type": "execute_result"
    }
   ],
   "source": [
    "rel_rate = []\n",
    "for col in range(inter_count):\n",
    "    rel_rate.append(ni_column[col] / N)\n",
    "rel_rate"
   ]
  },
  {
   "cell_type": "markdown",
   "id": "14b44e49",
   "metadata": {},
   "source": [
    "### Считаем накопительную относительную частоту"
   ]
  },
  {
   "cell_type": "code",
   "execution_count": 17,
   "id": "6b749153",
   "metadata": {},
   "outputs": [
    {
     "data": {
      "image/png": "[encoded data removed]",
      "text/latex": [
       "$\\displaystyle \\left[ 0.05, \\  0.19, \\  0.53, \\  0.75, \\  0.97, \\  1.0\\right]$"
      ],
      "text/plain": [
       "[0.05, 0.19, 0.53, 0.75, 0.97, 1.0]"
      ]
     },
     "execution_count": 17,
     "metadata": {},
     "output_type": "execute_result"
    }
   ],
   "source": [
    "rel_saving_rate = [el / N for el in saving_sum]\n",
    "rel_saving_rate"
   ]
  },
  {
   "cell_type": "markdown",
   "id": "0420f192-220b-41f6-ab46-1942900ca99b",
   "metadata": {},
   "source": [
    "### Результат"
   ]
  },
  {
   "cell_type": "code",
   "execution_count": 18,
   "id": "947311a7",
   "metadata": {},
   "outputs": [
    {
     "data": {
      "text/html": [
       "<div>\n",
       "<style scoped>\n",
       "    .dataframe tbody tr th:only-of-type {\n",
       "        vertical-align: middle;\n",
       "    }\n",
       "\n",
       "    .dataframe tbody tr th {\n",
       "        vertical-align: top;\n",
       "    }\n",
       "\n",
       "    .dataframe thead th {\n",
       "        text-align: right;\n",
       "    }\n",
       "</style>\n",
       "<table border=\"1\" class=\"dataframe\">\n",
       "  <thead>\n",
       "    <tr style=\"text-align: right;\">\n",
       "      <th></th>\n",
       "      <th>Ci-Ci+1</th>\n",
       "      <th>xi*</th>\n",
       "      <th>ni*</th>\n",
       "      <th>mi</th>\n",
       "      <th>omegai</th>\n",
       "      <th>omegai*</th>\n",
       "    </tr>\n",
       "  </thead>\n",
       "  <tbody>\n",
       "    <tr>\n",
       "      <th>1</th>\n",
       "      <td>[8-12)</td>\n",
       "      <td>10</td>\n",
       "      <td>5</td>\n",
       "      <td>5</td>\n",
       "      <td>0.05</td>\n",
       "      <td>0.05</td>\n",
       "    </tr>\n",
       "    <tr>\n",
       "      <th>2</th>\n",
       "      <td>[12-16)</td>\n",
       "      <td>14</td>\n",
       "      <td>14</td>\n",
       "      <td>19</td>\n",
       "      <td>0.14</td>\n",
       "      <td>0.19</td>\n",
       "    </tr>\n",
       "    <tr>\n",
       "      <th>3</th>\n",
       "      <td>[16-20)</td>\n",
       "      <td>18</td>\n",
       "      <td>34</td>\n",
       "      <td>53</td>\n",
       "      <td>0.34</td>\n",
       "      <td>0.53</td>\n",
       "    </tr>\n",
       "    <tr>\n",
       "      <th>4</th>\n",
       "      <td>[20-24)</td>\n",
       "      <td>22</td>\n",
       "      <td>22</td>\n",
       "      <td>75</td>\n",
       "      <td>0.22</td>\n",
       "      <td>0.75</td>\n",
       "    </tr>\n",
       "    <tr>\n",
       "      <th>5</th>\n",
       "      <td>[24-28)</td>\n",
       "      <td>26</td>\n",
       "      <td>22</td>\n",
       "      <td>97</td>\n",
       "      <td>0.22</td>\n",
       "      <td>0.97</td>\n",
       "    </tr>\n",
       "    <tr>\n",
       "      <th>6</th>\n",
       "      <td>[28-32]</td>\n",
       "      <td>30</td>\n",
       "      <td>3</td>\n",
       "      <td>100</td>\n",
       "      <td>0.03</td>\n",
       "      <td>1</td>\n",
       "    </tr>\n",
       "  </tbody>\n",
       "</table>\n",
       "</div>"
      ],
      "text/plain": [
       "   Ci-Ci+1 xi* ni*   mi omegai omegai*\n",
       "1   [8-12)  10   5    5   0.05    0.05\n",
       "2  [12-16)  14  14   19   0.14    0.19\n",
       "3  [16-20)  18  34   53   0.34    0.53\n",
       "4  [20-24)  22  22   75   0.22    0.75\n",
       "5  [24-28)  26  22   97   0.22    0.97\n",
       "6  [28-32]  30   3  100   0.03       1"
      ]
     },
     "execution_count": 18,
     "metadata": {},
     "output_type": "execute_result"
    }
   ],
   "source": [
    "indexs = [i for i in range(1,inter_count + 1)]\n",
    "\n",
    "final_df = pd.DataFrame(np.array([\n",
    "                            interv_series,\n",
    "                            mid_of_inters,\n",
    "                            ni_column,\n",
    "                            saving_sum,\n",
    "                            rel_rate,\n",
    "                            rel_saving_rate\n",
    "                                ]).T, \n",
    "                        columns=[\n",
    "                            'Ci-Ci+1',\n",
    "                            'xi*',\n",
    "                            'ni*',\n",
    "                            'mi',\n",
    "                            'omegai',\n",
    "                            'omegai*'\n",
    "                        ], \n",
    "                        index=indexs)\n",
    "final_df"
   ]
  },
  {
   "cell_type": "markdown",
   "id": "68b19d1b-ff82-4f51-ad28-b031789c7bd8",
   "metadata": {},
   "source": [
    "# 4. Построение гистограммы и полигон частот\n",
    "### Полигон частот"
   ]
  },
  {
   "cell_type": "code",
   "execution_count": 19,
   "id": "12edab1b-5159-49da-8396-9849365df944",
   "metadata": {},
   "outputs": [
    {
     "data": {
      "image/png": "[encoded data removed]",
      "text/plain": [
       "<Figure size 800x560 with 1 Axes>"
      ]
     },
     "metadata": {
      "needs_background": "light"
     },
     "output_type": "display_data"
    }
   ],
   "source": [
    "plt_x = final_df['xi*']; plt_y = final_df['ni*']\n",
    "fig, ax = plt.subplots(figsize=(10, 7), dpi= 80)\n",
    "plt.plot(plt_x, plt_y,'b-o')\n",
    "plt.xticks([i for i in plt_x])\n",
    "plt.yticks([i for i in plt_y])\n",
    "plt.grid()"
   ]
  },
  {
   "cell_type": "markdown",
   "id": "a7ffce05-ebc5-4ac6-9d61-f2f04a43489c",
   "metadata": {},
   "source": [
    "### Гистограмма"
   ]
  },
  {
   "cell_type": "code",
   "execution_count": 20,
   "id": "1c0c1e09-d0d9-41e7-b900-24e1a47304ba",
   "metadata": {},
   "outputs": [
    {
     "data": {
      "image/png": "[encoded data removed]",
      "text/plain": [
       "<Figure size 800x560 with 1 Axes>"
      ]
     },
     "metadata": {
      "needs_background": "light"
     },
     "output_type": "display_data"
    }
   ],
   "source": [
    "fig, ax = plt.subplots(figsize=(10, 7), dpi= 80)\n",
    "plt.bar(plt_x, plt_y/inter_length, width = inter_length, tick_label=final_df['xi*']) # Отрисовываем гистограмму \n",
    "plt.plot(plt2_x, plt2_y*N, 'r') # Отрисовываем вероятностный закон\n",
    "plt.yticks([ i/inter_length for i in plt_y])\n",
    "plt.grid()\n",
    "plt.show()\n"
   ]
  },
  {
   "cell_type": "markdown",
   "id": "2d595b79-9203-4f60-87ed-fd7f35085e40",
   "metadata": {},
   "source": [
    "# 5. Эмпирическая функция распределения"
   ]
  },
  {
   "cell_type": "code",
   "execution_count": 21,
   "id": "2e7ee039-69db-40b1-ba0b-cc158b37f281",
   "metadata": {},
   "outputs": [
    {
     "data": {
      "image/png": "[encoded data removed]",
      "text/plain": [
       "<Figure size 800x560 with 1 Axes>"
      ]
     },
     "metadata": {
      "needs_background": "light"
     },
     "output_type": "display_data"
    }
   ],
   "source": [
    "fig, ax = plt.subplots(figsize=(10, 7), dpi=80)\n",
    "\n",
    "# # Установка левой грани в 0\n",
    "ax.spines['left'].set_position('zero')\n",
    " \n",
    "# # убираем правую и верхную грани\n",
    "for spine in ['right', 'top']:\n",
    "    ax.spines[spine].set_color('none')\n",
    "\n",
    "# # Устанавливаем предельные значения для осей\n",
    "ax.axis([-5, 40, 0, 1.2])\n",
    "\n",
    "# Создаём дополнительный dataframe для правильной отрисовки ф-и распределения\n",
    "rasp = pd.concat([\n",
    "    pd.DataFrame([[-10, 0]], columns=['xi*','omegai*']), \n",
    "    final_df[['xi*','omegai*']], \n",
    "    pd.DataFrame([[50, 1]], columns=['xi*','omegai*'])\n",
    "])\n",
    "\n",
    "# Отрисовываем ф-и распределения\n",
    "plt.step(rasp['xi*'], rasp['omegai*'], '<-', where='post')\n",
    "plt.xticks([i for i in rasp['xi*']])\n",
    "plt.yticks([i for i in rasp['omegai*']])\n",
    "plt.grid()\n",
    "plt.show()\n"
   ]
  },
  {
   "cell_type": "markdown",
   "id": "406b4095-32fb-480a-a501-b4c9447b8cc6",
   "metadata": {},
   "source": [
    "$$F(x) =\\begin{cases} 0,&  при \\; x \\leq 10,\\\\\n",
    "0.05,&  при \\;10 \\le x \\leq 14,\\\\\n",
    "0.19,&  при \\;14 \\le x \\leq 18,\\\\\n",
    "0.53,&  при \\;18 \\le x \\leq 22,\\\\\n",
    "0.75,&  при \\;22 \\le x \\leq 26,\\\\\n",
    "0.97,&  при \\;26 \\le x \\leq 30,\\\\\n",
    "1  ,&  при \\;30 \\le x\n",
    "\\end{cases}$$"
   ]
  },
  {
   "cell_type": "markdown",
   "id": "ced9c622-bf3d-46f2-88a6-f10c6d8a0cb9",
   "metadata": {},
   "source": [
    "# 6.Вычислить среднее и дисперсию, к-ты асимметрии и эксцесса для группированной выборки"
   ]
  },
  {
   "cell_type": "code",
   "execution_count": 22,
   "id": "d2d73991-8845-4299-87ee-2d060babc51e",
   "metadata": {},
   "outputs": [
    {
     "data": {
      "text/html": [
       "<div>\n",
       "<style scoped>\n",
       "    .dataframe tbody tr th:only-of-type {\n",
       "        vertical-align: middle;\n",
       "    }\n",
       "\n",
       "    .dataframe tbody tr th {\n",
       "        vertical-align: top;\n",
       "    }\n",
       "\n",
       "    .dataframe thead th {\n",
       "        text-align: right;\n",
       "    }\n",
       "</style>\n",
       "<table border=\"1\" class=\"dataframe\">\n",
       "  <thead>\n",
       "    <tr style=\"text-align: right;\">\n",
       "      <th></th>\n",
       "      <th>xi*</th>\n",
       "      <th>ni*</th>\n",
       "    </tr>\n",
       "  </thead>\n",
       "  <tbody>\n",
       "    <tr>\n",
       "      <th>1</th>\n",
       "      <td>10</td>\n",
       "      <td>5</td>\n",
       "    </tr>\n",
       "    <tr>\n",
       "      <th>2</th>\n",
       "      <td>14</td>\n",
       "      <td>14</td>\n",
       "    </tr>\n",
       "    <tr>\n",
       "      <th>3</th>\n",
       "      <td>18</td>\n",
       "      <td>34</td>\n",
       "    </tr>\n",
       "    <tr>\n",
       "      <th>4</th>\n",
       "      <td>22</td>\n",
       "      <td>22</td>\n",
       "    </tr>\n",
       "    <tr>\n",
       "      <th>5</th>\n",
       "      <td>26</td>\n",
       "      <td>22</td>\n",
       "    </tr>\n",
       "    <tr>\n",
       "      <th>6</th>\n",
       "      <td>30</td>\n",
       "      <td>3</td>\n",
       "    </tr>\n",
       "  </tbody>\n",
       "</table>\n",
       "</div>"
      ],
      "text/plain": [
       "  xi* ni*\n",
       "1  10   5\n",
       "2  14  14\n",
       "3  18  34\n",
       "4  22  22\n",
       "5  26  22\n",
       "6  30   3"
      ]
     },
     "execution_count": 22,
     "metadata": {},
     "output_type": "execute_result"
    }
   ],
   "source": [
    "final_df[['xi*','ni*']] "
   ]
  },
  {
   "cell_type": "markdown",
   "id": "25d9ebee",
   "metadata": {},
   "source": [
    "### Вспомогательная таблица"
   ]
  },
  {
   "cell_type": "code",
   "execution_count": 23,
   "id": "715911c6",
   "metadata": {},
   "outputs": [
    {
     "data": {
      "text/html": [
       "<div>\n",
       "<style scoped>\n",
       "    .dataframe tbody tr th:only-of-type {\n",
       "        vertical-align: middle;\n",
       "    }\n",
       "\n",
       "    .dataframe tbody tr th {\n",
       "        vertical-align: top;\n",
       "    }\n",
       "\n",
       "    .dataframe thead th {\n",
       "        text-align: right;\n",
       "    }\n",
       "</style>\n",
       "<table border=\"1\" class=\"dataframe\">\n",
       "  <thead>\n",
       "    <tr style=\"text-align: right;\">\n",
       "      <th></th>\n",
       "      <th>xi*</th>\n",
       "      <th>ni*</th>\n",
       "      <th>xi*ni</th>\n",
       "      <th>xi-xavg</th>\n",
       "      <th>(xi-xavg)ni</th>\n",
       "      <th>(xi-xavg)^2ni</th>\n",
       "      <th>(xi-xavg)^3ni</th>\n",
       "      <th>(xi-xavg)^4ni</th>\n",
       "    </tr>\n",
       "  </thead>\n",
       "  <tbody>\n",
       "    <tr>\n",
       "      <th>1</th>\n",
       "      <td>10</td>\n",
       "      <td>5</td>\n",
       "      <td>50</td>\n",
       "      <td>-10.04</td>\n",
       "      <td>-50.2</td>\n",
       "      <td>504.008</td>\n",
       "      <td>-5060.24</td>\n",
       "      <td>50804.8</td>\n",
       "    </tr>\n",
       "    <tr>\n",
       "      <th>2</th>\n",
       "      <td>14</td>\n",
       "      <td>14</td>\n",
       "      <td>196</td>\n",
       "      <td>-6.04</td>\n",
       "      <td>-84.56</td>\n",
       "      <td>510.742</td>\n",
       "      <td>-3084.88</td>\n",
       "      <td>18632.7</td>\n",
       "    </tr>\n",
       "    <tr>\n",
       "      <th>3</th>\n",
       "      <td>18</td>\n",
       "      <td>34</td>\n",
       "      <td>612</td>\n",
       "      <td>-2.04</td>\n",
       "      <td>-69.36</td>\n",
       "      <td>141.494</td>\n",
       "      <td>-288.649</td>\n",
       "      <td>588.843</td>\n",
       "    </tr>\n",
       "    <tr>\n",
       "      <th>4</th>\n",
       "      <td>22</td>\n",
       "      <td>22</td>\n",
       "      <td>484</td>\n",
       "      <td>1.96</td>\n",
       "      <td>43.12</td>\n",
       "      <td>84.5152</td>\n",
       "      <td>165.65</td>\n",
       "      <td>324.674</td>\n",
       "    </tr>\n",
       "    <tr>\n",
       "      <th>5</th>\n",
       "      <td>26</td>\n",
       "      <td>22</td>\n",
       "      <td>572</td>\n",
       "      <td>5.96</td>\n",
       "      <td>131.12</td>\n",
       "      <td>781.475</td>\n",
       "      <td>4657.59</td>\n",
       "      <td>27759.2</td>\n",
       "    </tr>\n",
       "    <tr>\n",
       "      <th>6</th>\n",
       "      <td>30</td>\n",
       "      <td>3</td>\n",
       "      <td>90</td>\n",
       "      <td>9.96</td>\n",
       "      <td>29.88</td>\n",
       "      <td>297.605</td>\n",
       "      <td>2964.14</td>\n",
       "      <td>29522.9</td>\n",
       "    </tr>\n",
       "  </tbody>\n",
       "</table>\n",
       "</div>"
      ],
      "text/plain": [
       "  xi* ni* xi*ni xi-xavg (xi-xavg)ni (xi-xavg)^2ni (xi-xavg)^3ni (xi-xavg)^4ni\n",
       "1  10   5    50  -10.04       -50.2       504.008      -5060.24       50804.8\n",
       "2  14  14   196   -6.04      -84.56       510.742      -3084.88       18632.7\n",
       "3  18  34   612   -2.04      -69.36       141.494      -288.649       588.843\n",
       "4  22  22   484    1.96       43.12       84.5152        165.65       324.674\n",
       "5  26  22   572    5.96      131.12       781.475       4657.59       27759.2\n",
       "6  30   3    90    9.96       29.88       297.605       2964.14       29522.9"
      ]
     },
     "execution_count": 23,
     "metadata": {},
     "output_type": "execute_result"
    }
   ],
   "source": [
    "rez_df = final_df[['xi*','ni*']].copy() # Копия таблицы\n",
    "\n",
    "xi_series = final_df['xi*'] # столбец середин отрезка\n",
    "ni_series = final_df['ni*'] # столбец частоты на отрезках\n",
    "rez_df[\"xi*ni\"]  = xi_series * ni_series # Столбец середин отрезков умноженных на их частоты\n",
    "\n",
    "xi_sum = xi_series.sum() \n",
    "ni_sum = ni_series.sum() \n",
    "xi_ni_sum = rez_df[\"xi*ni\"].sum() # Считаем сумму для столбца перемноженных значений (см. xi*ni столбец)\n",
    "\n",
    "x_avg = xi_ni_sum/ni_sum # Среднее \n",
    "\n",
    "rez_df[\"xi-xavg\"] = xi_series - x_avg \n",
    "xi_xavg = rez_df[\"xi-xavg\"] \n",
    "\n",
    "# столбец для момента 1-го порядка\n",
    "rez_df[\"(xi-xavg)ni\"] = xi_xavg * ni_series\n",
    "\n",
    "# столбец для момента 2-го порядка\n",
    "rez_df[\"(xi-xavg)^2ni\"]  = xi_xavg**2 * ni_series\n",
    "\n",
    "# столбец для момента 3-го порядка\n",
    "rez_df[\"(xi-xavg)^3ni\"]  = xi_xavg**3 * ni_series\n",
    "\n",
    "# столбец для момента 4-го порядка\n",
    "rez_df[\"(xi-xavg)^4ni\"]  = xi_xavg**4 * ni_series\n",
    "\n",
    "rez_df"
   ]
  },
  {
   "cell_type": "markdown",
   "id": "2ee27e6f",
   "metadata": {},
   "source": [
    "### Мода"
   ]
  },
  {
   "cell_type": "code",
   "execution_count": 24,
   "id": "79aefbce",
   "metadata": {},
   "outputs": [
    {
     "data": {
      "image/png": "[encoded data removed]",
      "text/latex": [
       "$\\displaystyle 18.5$"
      ],
      "text/plain": [
       "18.5"
      ]
     },
     "execution_count": 24,
     "metadata": {},
     "output_type": "execute_result"
    }
   ],
   "source": [
    "df_mod = final_df[['Ci-Ci+1','xi*','ni*']] # Создаём новый df для моды\n",
    "n_mod = df_mod['ni*'].max() # находим максмальную частоту\n",
    "x_mod = df_mod[df_mod['ni*'] == n_mod] # находим строку максимальной частоты\n",
    "x_row_index = x_mod.index[0] # И находим её индекс\n",
    "mod_row_down = df_mod[df_mod['ni*'].index == x_row_index - 1] # находим строку ниже \n",
    "mod_row_up = df_mod[df_mod['ni*'].index == x_row_index + 1] # находим строку выше\n",
    "\n",
    "ind_1 = mod_row_down.index[0] # поле index у Series имеет свой собтсвенный тип, поэтому достаю значение с помощью индексации\n",
    "ind_2 = mod_row_up.index[0] \n",
    "\n",
    "n_mod_down = mod_row_down['ni*'][ind_1] # Находим частоту для строки ниже модальной \n",
    "n_mod_up = mod_row_up['ni*'][ind_2] # находим частоту для строки выше модальной\n",
    "\n",
    "col_str = x_mod['Ci-Ci+1']\n",
    "\n",
    "left_side = col_str[x_row_index].split('-')[0] # Достаём левую границу модального интервала\n",
    "x_mod_min = int(left_side[1:]) # убираем скобку и превращаем в int\n",
    "moda = x_mod_min + inter_length * ((n_mod - n_mod_down) / ((n_mod - n_mod_down) + (n_mod - n_mod_up)))\n",
    "# формула для вычисления моды (см. презентация 'Лекция 2-3' слайд 49) \n",
    "moda"
   ]
  },
  {
   "cell_type": "markdown",
   "id": "dd38ffb1",
   "metadata": {},
   "source": [
    "### Медиана"
   ]
  },
  {
   "cell_type": "code",
   "execution_count": 25,
   "id": "cb454bdd",
   "metadata": {},
   "outputs": [
    {
     "data": {
      "image/png": "[encoded data removed]",
      "text/latex": [
       "$\\displaystyle 19.6470588235294$"
      ],
      "text/plain": [
       "19.647058823529413"
      ]
     },
     "execution_count": 25,
     "metadata": {},
     "output_type": "execute_result"
    }
   ],
   "source": [
    "df_med = final_df[[\"Ci-Ci+1\",\"xi*\",\"ni*\",\"mi\"]]\n",
    "x_med = df_med[df_med['mi'] > N/2].head(1) \n",
    "x_med_index = df_med[df_med['mi'] > N/2].index[0]\n",
    "n_med = x_med['ni*'][x_med_index]\n",
    "x_med_down = df_med[df_med['mi'].index == x_med_index - 1]\n",
    "x_med_down_index = x_med_down.index[0]\n",
    "m_med_down = x_med_down['mi'][x_med_down_index]\n",
    "col_str = x_med['Ci-Ci+1']\n",
    "\n",
    "left_side = col_str[x_med_index].split('-')[0] # Достаём левую границу медианного интервала\n",
    "x_med_min = int(left_side[1:]) # убираем скобку и превращаем в int\n",
    "\n",
    "mediana = x_med_min  + inter_length*(N/2 - m_med_down) / n_med\n",
    "mediana"
   ]
  },
  {
   "cell_type": "code",
   "execution_count": 26,
   "id": "e7f7c011-ac0d-41f2-9131-18ba33509355",
   "metadata": {},
   "outputs": [],
   "source": [
    "sum_1  = rez_df[\"(xi-xavg)ni\"].sum() # Подбиваем суммы\n",
    "sum_2  = rez_df[\"(xi-xavg)^2ni\"].sum()\n",
    "sum_3  = rez_df[\"(xi-xavg)^3ni\"].sum()\n",
    "sum_4  = rez_df[\"(xi-xavg)^4ni\"].sum()\n",
    "\n",
    "# Проверка\n",
    "abs(sum_1) < 0.1e-10 # Проверка, с учетом накопительных ошибок\n",
    "Dv = sum_2/N # Дисперсия \n",
    "mu3 = sum_3/N # момент 3-го порядка\n",
    "mu4 = sum_4/N # момент 4-го порядка\n",
    "\n",
    "sgmv = Dv ** (0.5) # С.К.О\n",
    "As = mu3 / sgmv **3 # К-т асимметрии\n",
    "Ek = mu4 / sgmv **4 - 3 #К-т эксцесса\n",
    "\n",
    "S2 = round(N/(N-1)*float(Dv),4)\n",
    "S = round((N/(N-1)*float(Dv))**0.5,4)\n",
    "# x_avg, moda, mediana, Dv, sgmv, As, Ek"
   ]
  },
  {
   "cell_type": "markdown",
   "id": "614b879e-f8ea-4ba0-a4f1-cf31bb9910f5",
   "metadata": {},
   "source": [
    "# 7.Анализ полученных результатов"
   ]
  },
  {
   "cell_type": "code",
   "execution_count": 27,
   "id": "6ea96977",
   "metadata": {},
   "outputs": [
    {
     "name": "stdout",
     "output_type": "stream",
     "text": [
      "\n",
      "N = 100\n",
      "= Группированная выборка = \t\t = числовые характеристики с.в.X =\n",
      "========================== \t\t =================================\n",
      "среднее = 20.04\t\t\t\t МХ = 20.0\n",
      "мода = 18.5\t\t\t\t мода = 21\n",
      "медиана = 20 \t\t\t\t медиана = 20\n",
      "DX = 23.1984 \t\t\t\t DX = 25.1429\n",
      "с.к.о = 4.8165 \t\t\t\t с.к.о = 5.0143\n",
      "к-т асимметрии = -0.0579\n",
      "К-т эксцесса = -0.6284\n",
      "S^2 = 23.4327\n",
      "S = 4.8407\n",
      "\n",
      "\n"
     ]
    }
   ],
   "source": [
    "print(f\"\"\"\n",
    "N = {N}\n",
    "= Группированная выборка = \\t\\t = числовые характеристики с.в.X =\n",
    "========================== \\t\\t =================================\n",
    "среднее = {x_avg}\\t\\t\\t\\t МХ = {round(float(MX),4)}\n",
    "мода = {moda}\\t\\t\\t\\t мода = {moda_tv}\n",
    "медиана = {round(float(mediana))} \\t\\t\\t\\t медиана = {mediana_tv}\n",
    "DX = {round(float(Dv),4)} \\t\\t\\t\\t DX = {round(float(DX),4)}\n",
    "с.к.о = {round(sgmv,4)} \\t\\t\\t\\t с.к.о = {round(float(DX)**0.5,4)}\n",
    "к-т асимметрии = {round(float(As), 4)}\n",
    "К-т эксцесса = {round(float(Ek), 4)}\n",
    "S^2 = {S2}\n",
    "S = {S}\n",
    "\n",
    "\"\"\")"
   ]
  },
  {
   "cell_type": "code",
   "execution_count": 28,
   "id": "88e00791-1052-4606-8d8a-94e913263e2d",
   "metadata": {},
   "outputs": [],
   "source": [
    "import scipy.stats as st\n",
    "import sympy as sp\n",
    "from sympy.solvers import solve\n",
    "sp.init_printing()"
   ]
  },
  {
   "cell_type": "markdown",
   "id": "bb09d422-d104-4864-8222-740255d35235",
   "metadata": {},
   "source": [
    "#  Интервальная оценка MX"
   ]
  },
  {
   "cell_type": "code",
   "execution_count": 29,
   "id": "c5f19d84-5089-4eae-bef2-223fcc0caafe",
   "metadata": {},
   "outputs": [
    {
     "name": "stdout",
     "output_type": "stream",
     "text": [
      "\n",
      "    Уровень значимости = 0.05\n",
      "    19.0795< MX < 21.0005\n",
      "    \n",
      "\n",
      "    Уровень значимости = 0.1\n",
      "    19.2363< MX < 20.8437\n",
      "    \n"
     ]
    },
    {
     "data": {
      "image/png": "[encoded data removed]",
      "text/plain": [
       "<Figure size 800x160 with 1 Axes>"
      ]
     },
     "metadata": {
      "needs_background": "light"
     },
     "output_type": "display_data"
    }
   ],
   "source": [
    "fig, ax = plt.subplots(figsize=(10, 2), dpi= 80)\n",
    "ax.set_ylim([0, 3])\n",
    "\n",
    "# Уровни значимости a (0.05 и 0.1)\n",
    "sig_levs = [0.05, 0.1]\n",
    "\n",
    "\n",
    "ticks = []\n",
    "colors = ['b','r']\n",
    "\n",
    "for sig_lev,color in zip(sig_levs,colors):\n",
    "    t = st.t.ppf(1-sig_lev/2, N-1) # Распределение стьюдента\n",
    "    x1 = round(x_avg-t*S/N**0.5, 4)\n",
    "    x2 = round(x_avg+t*S/N**0.5, 4)\n",
    "    plt.plot([x1, x2], [0, 0], 'o')\n",
    "    \n",
    "    center = (x2 + x1) / 2\n",
    "    radius = x2 - center\n",
    "    theta1, theta2 = 0, 180\n",
    "    half_circle = Wedge((center, 0), radius, theta1, theta2,width=0.02,color=color)\n",
    "    ax.add_artist(half_circle)\n",
    "    \n",
    "    ticks += [x1, x2]\n",
    "    print(f\"\"\"\n",
    "    Уровень значимости = {sig_lev}\n",
    "    {x1}< MX < {x2}\n",
    "    \"\"\")\n",
    "\n",
    "ax.text(20, 1.2, '0.95')        \n",
    "ax.text(20, 0.4, '0.9')    \n",
    "    \n",
    "plt.xticks(ticks)\n",
    "plt.yticks([0])\n",
    "plt.grid()"
   ]
  },
  {
   "cell_type": "markdown",
   "id": "6002b6c5-f078-4c08-942b-1e26fbe6d51b",
   "metadata": {},
   "source": [
    "# Интервальная оценка DX"
   ]
  },
  {
   "cell_type": "code",
   "execution_count": 30,
   "id": "6a9104ec-86ba-4005-8c68-7b39b161bbb3",
   "metadata": {},
   "outputs": [
    {
     "name": "stdout",
     "output_type": "stream",
     "text": [
      "\n",
      "    Уровень значимости = 0.05\n",
      "    18.0642< DX < 31.6222\n",
      "    \n",
      "\n",
      "    Уровень значимости = 0.1\n",
      "    18.826< DX < 30.1096\n",
      "    \n"
     ]
    },
    {
     "data": {
      "image/png": "[encoded data removed]",
      "text/plain": [
       "<Figure size 800x160 with 1 Axes>"
      ]
     },
     "metadata": {
      "needs_background": "light"
     },
     "output_type": "display_data"
    }
   ],
   "source": [
    "fig, ax = plt.subplots(figsize=(10, 2), dpi= 80)\n",
    "ax.set_ylim([0, 10])\n",
    "\n",
    "sig_levs = [0.05, 0.1]\n",
    "\n",
    "\n",
    "ticks = []\n",
    "colors = ['b','r']\n",
    "\n",
    "for sig_lev,color in zip(sig_levs,colors):\n",
    "    ch1 = st.chi2.ppf(1-sig_lev/2, N-1)\n",
    "    ch2 = st.chi2.ppf(sig_lev/2, N-1)\n",
    "    x1 = round((N-1)*S2/ch1, 4)\n",
    "    x2 = round((N-1)*S2/ch2, 4)\n",
    "    plt.plot([x1, x2], [0, 0], 'o')\n",
    "    \n",
    "    center = (x2 + x1) / 2\n",
    "    radius = x2 - center\n",
    "    theta1, theta2 = 0, 180\n",
    "    half_circle = Wedge((center, 0), radius, theta1, theta2,width=0.1,color=color)\n",
    "    ax.add_artist(half_circle)\n",
    "    \n",
    "    ticks += [x1, x2]\n",
    "    print(f\"\"\"\n",
    "    Уровень значимости = {sig_lev}\n",
    "    {x1}< DX < {x2}\n",
    "    \"\"\")\n",
    "\n",
    "ax.text(24, 7.3, '0.95')        \n",
    "ax.text(24, 4.3, '0.9')      \n",
    "    \n",
    "plt.xticks(ticks)\n",
    "plt.yticks([0])\n",
    "plt.grid()"
   ]
  },
  {
   "cell_type": "markdown",
   "id": "867c74b5",
   "metadata": {},
   "source": [
    "# Метод моментов"
   ]
  },
  {
   "cell_type": "markdown",
   "id": "8f7c0795",
   "metadata": {
    "tags": []
   },
   "source": [
    "$ X \\sim R(0, \\theta) $\n",
    "\n",
    "$m_X = \\frac{\\theta}{2}$\n",
    "\n",
    "$DX = \\frac{\\theta ^2 }{12}$\n",
    "\n",
    "### Метод моментов \n",
    "#### Способ 1\n",
    "\n",
    "$ \\alpha_1  = \\widetilde{\\alpha_1}$.\n",
    "\n",
    "$ \\alpha_1 = m_X = \\frac{\\theta}{2};$\n",
    "\n",
    "$ \\widetilde{\\alpha_1} = \\frac{1}{n}\\sum_{i=1}^{n}n_i x_i = \\overline{x}$. \n",
    "\n",
    "$ \\frac{\\theta}{2} = \\overline{x}$\n",
    "\n",
    "$ \\fbox{ $\\theta = 2 \\overline{x} $} $\n"
   ]
  },
  {
   "cell_type": "markdown",
   "id": "e830f02f-0e57-421f-9a49-426140295588",
   "metadata": {},
   "source": [
    "# Метод максимального правдоподобия"
   ]
  },
  {
   "cell_type": "markdown",
   "id": "db5abd48",
   "metadata": {},
   "source": []
  },
  {
   "cell_type": "markdown",
   "id": "babb01b9-f3cc-4862-9f3d-14ee7ff5b1a5",
   "metadata": {},
   "source": [
    "$ \\sim N(a, 1) $\n",
    "\n",
    "Составляем функцию правдоподобия.\n",
    "Подставляя в закон плотности распределения мат. ожидание (a) и дисперсию (1), произведение для каждого $x_i$\n",
    "\n",
    "\n",
    "$ L(a) = \\prod_{i=1}^n \\frac{1}{\\sqrt{2\\pi}} e^{-\\frac{(x_i -a)^2}{2}}$\n",
    "\n",
    "\n",
    "Логарифм от функции правдоподобия\n",
    "\n",
    "$\\widetilde{L(a)} = \\ln(\\prod_{i=1}^n \\frac{1}{\\sqrt{2\\pi}} e^{-\\frac{(x_i -a)^2}{2}}) = \\ln(\\prod_{i=1}^n \\frac{1}{\\sqrt{2\\pi}}) + \\ln( \\prod_{i=1}^n e^{-\\frac{(x_i -a)^2}{2}}) $\n",
    "\n",
    "$\\widetilde{L(a)} =  \\ln(\\prod_{i=1}^n \\frac{1}{\\sqrt{2\\pi}}) +\\sum_{i=1}^n \\ln(e^{-\\frac{(x_i -a)^2}{2}})$\n",
    "\n",
    "$ \\widetilde{L(a)} =  \\ln(\\prod_{i=1}^n \\frac{1}{\\sqrt{2\\pi}}) -\\frac{1}{2}\\sum_{i=1}^n (x_i -a)^2 $\n",
    "\n",
    "Находим частную производную по $a$\n",
    "\n",
    "$\\frac{\\partial \\widetilde{L(a)}}{\\partial a} = -\\frac{1}{2}\\sum_{i=1}^n \\frac{\\partial (x_i -a)^2}{\\partial a}$\n",
    "\n",
    "$ \\frac{\\partial \\widetilde{L(a)}}{\\partial a} = \\sum_{i=1}^n (x_i -a) = 0$\n",
    "\n",
    "Из равенства $\\sum_{i=1}^n (x_i -a) = 0$ получим\n",
    "\n",
    "$ \\sum_{i=1}^n (x_i)  -n \\widetilde{a} = 0$\n",
    "\n",
    "$ \\fbox{ $ \\widetilde{a} = \\frac{1}{n} \\sum_{i=1}^n x_i$ }$"
   ]
  }
 ],
 "metadata": {
  "kernelspec": {
   "display_name": "Python 3 (ipykernel)",
   "language": "python",
   "name": "python3"
  },
  "language_info": {
   "codemirror_mode": {
    "name": "ipython",
    "version": 3
   },
   "file_extension": ".py",
   "mimetype": "text/x-python",
   "name": "python",
   "nbconvert_exporter": "python",
   "pygments_lexer": "ipython3",
   "version": "3.7.0"
  }
 },
 "nbformat": 4,
 "nbformat_minor": 5
}
